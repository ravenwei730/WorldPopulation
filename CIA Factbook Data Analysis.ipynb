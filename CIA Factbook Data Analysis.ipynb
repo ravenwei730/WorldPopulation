{
 "cells": [
  {
   "cell_type": "markdown",
   "id": "3a4c9bea",
   "metadata": {},
   "source": [
    "# CIA Factbook Data Analysis with SQL"
   ]
  },
  {
   "cell_type": "markdown",
   "id": "4fa0fc46",
   "metadata": {},
   "source": [
    "The [CIA Factbook](https://www.cia.gov/the-world-factbook/), or World Factbook, is an annual publication by the US Central Intelligence Agency, offering essential insights by summarizing global country and regional data, encompassing demographics and geography, among other facets."
   ]
  },
  {
   "cell_type": "markdown",
   "id": "4085bb7e",
   "metadata": {},
   "source": [
    "![img](cia_factbook.jpg)\n"
   ]
  },
  {
   "cell_type": "markdown",
   "id": "e012ead4",
   "metadata": {},
   "source": [
    "In this project, we'll deploy SQL within Jupyter Notebook to scrutinize the data in the SQLite factbook.db database. The objective is to pinpoint global leaders and laggards using demographic measures such as population, mortality, and fertility."
   ]
  },
  {
   "cell_type": "markdown",
   "id": "17e285d8",
   "metadata": {},
   "source": [
    "## Connecting to the Database\n",
    "<hr>"
   ]
  },
  {
   "cell_type": "code",
   "execution_count": 17,
   "id": "1a158258",
   "metadata": {},
   "outputs": [],
   "source": [
    "%%capture\n",
    "%load_ext sql\n",
    "%sql sqlite:///Desktop/factbook.db"
   ]
  },
  {
   "cell_type": "code",
   "execution_count": 18,
   "id": "78fb2885",
   "metadata": {},
   "outputs": [
    {
     "name": "stdout",
     "output_type": "stream",
     "text": [
      " * sqlite:///Desktop/factbook.db\n",
      "Done.\n"
     ]
    },
    {
     "data": {
      "text/html": [
       "<table>\n",
       "    <thead>\n",
       "        <tr>\n",
       "            <th>name</th>\n",
       "        </tr>\n",
       "    </thead>\n",
       "    <tbody>\n",
       "        <tr>\n",
       "            <td>sqlite_sequence</td>\n",
       "        </tr>\n",
       "        <tr>\n",
       "            <td>facts</td>\n",
       "        </tr>\n",
       "    </tbody>\n",
       "</table>"
      ],
      "text/plain": [
       "[('sqlite_sequence',), ('facts',)]"
      ]
     },
     "execution_count": 18,
     "metadata": {},
     "output_type": "execute_result"
    }
   ],
   "source": [
    "%%sql\n",
    "SELECT name\n",
    "FROM sqlite_master\n",
    "WHERE type='table';"
   ]
  },
  {
   "cell_type": "markdown",
   "id": "35299f38",
   "metadata": {},
   "source": [
    "## Overview of the Data\n",
    "<hr>"
   ]
  },
  {
   "cell_type": "markdown",
   "id": "bbb8dd44",
   "metadata": {},
   "source": [
    "We'll begin by exploring the data."
   ]
  },
  {
   "cell_type": "code",
   "execution_count": 19,
   "id": "e5ee0e05",
   "metadata": {},
   "outputs": [
    {
     "name": "stdout",
     "output_type": "stream",
     "text": [
      " * sqlite:///Desktop/factbook.db\n",
      "Done.\n"
     ]
    },
    {
     "data": {
      "text/html": [
       "<table>\n",
       "    <thead>\n",
       "        <tr>\n",
       "            <th>id</th>\n",
       "            <th>code</th>\n",
       "            <th>name</th>\n",
       "            <th>area</th>\n",
       "            <th>area_land</th>\n",
       "            <th>area_water</th>\n",
       "            <th>population</th>\n",
       "            <th>population_growth</th>\n",
       "            <th>birth_rate</th>\n",
       "            <th>death_rate</th>\n",
       "            <th>migration_rate</th>\n",
       "        </tr>\n",
       "    </thead>\n",
       "    <tbody>\n",
       "        <tr>\n",
       "            <td>1</td>\n",
       "            <td>af</td>\n",
       "            <td>Afghanistan</td>\n",
       "            <td>652230</td>\n",
       "            <td>652230</td>\n",
       "            <td>0</td>\n",
       "            <td>32564342</td>\n",
       "            <td>2.32</td>\n",
       "            <td>38.57</td>\n",
       "            <td>13.89</td>\n",
       "            <td>1.51</td>\n",
       "        </tr>\n",
       "        <tr>\n",
       "            <td>2</td>\n",
       "            <td>al</td>\n",
       "            <td>Albania</td>\n",
       "            <td>28748</td>\n",
       "            <td>27398</td>\n",
       "            <td>1350</td>\n",
       "            <td>3029278</td>\n",
       "            <td>0.3</td>\n",
       "            <td>12.92</td>\n",
       "            <td>6.58</td>\n",
       "            <td>3.3</td>\n",
       "        </tr>\n",
       "        <tr>\n",
       "            <td>3</td>\n",
       "            <td>ag</td>\n",
       "            <td>Algeria</td>\n",
       "            <td>2381741</td>\n",
       "            <td>2381741</td>\n",
       "            <td>0</td>\n",
       "            <td>39542166</td>\n",
       "            <td>1.84</td>\n",
       "            <td>23.67</td>\n",
       "            <td>4.31</td>\n",
       "            <td>0.92</td>\n",
       "        </tr>\n",
       "        <tr>\n",
       "            <td>4</td>\n",
       "            <td>an</td>\n",
       "            <td>Andorra</td>\n",
       "            <td>468</td>\n",
       "            <td>468</td>\n",
       "            <td>0</td>\n",
       "            <td>85580</td>\n",
       "            <td>0.12</td>\n",
       "            <td>8.13</td>\n",
       "            <td>6.96</td>\n",
       "            <td>0.0</td>\n",
       "        </tr>\n",
       "        <tr>\n",
       "            <td>5</td>\n",
       "            <td>ao</td>\n",
       "            <td>Angola</td>\n",
       "            <td>1246700</td>\n",
       "            <td>1246700</td>\n",
       "            <td>0</td>\n",
       "            <td>19625353</td>\n",
       "            <td>2.78</td>\n",
       "            <td>38.78</td>\n",
       "            <td>11.49</td>\n",
       "            <td>0.46</td>\n",
       "        </tr>\n",
       "        <tr>\n",
       "            <td>6</td>\n",
       "            <td>ac</td>\n",
       "            <td>Antigua and Barbuda</td>\n",
       "            <td>442</td>\n",
       "            <td>442</td>\n",
       "            <td>0</td>\n",
       "            <td>92436</td>\n",
       "            <td>1.24</td>\n",
       "            <td>15.85</td>\n",
       "            <td>5.69</td>\n",
       "            <td>2.21</td>\n",
       "        </tr>\n",
       "        <tr>\n",
       "            <td>7</td>\n",
       "            <td>ar</td>\n",
       "            <td>Argentina</td>\n",
       "            <td>2780400</td>\n",
       "            <td>2736690</td>\n",
       "            <td>43710</td>\n",
       "            <td>43431886</td>\n",
       "            <td>0.93</td>\n",
       "            <td>16.64</td>\n",
       "            <td>7.33</td>\n",
       "            <td>0.0</td>\n",
       "        </tr>\n",
       "        <tr>\n",
       "            <td>8</td>\n",
       "            <td>am</td>\n",
       "            <td>Armenia</td>\n",
       "            <td>29743</td>\n",
       "            <td>28203</td>\n",
       "            <td>1540</td>\n",
       "            <td>3056382</td>\n",
       "            <td>0.15</td>\n",
       "            <td>13.61</td>\n",
       "            <td>9.34</td>\n",
       "            <td>5.8</td>\n",
       "        </tr>\n",
       "        <tr>\n",
       "            <td>9</td>\n",
       "            <td>as</td>\n",
       "            <td>Australia</td>\n",
       "            <td>7741220</td>\n",
       "            <td>7682300</td>\n",
       "            <td>58920</td>\n",
       "            <td>22751014</td>\n",
       "            <td>1.07</td>\n",
       "            <td>12.15</td>\n",
       "            <td>7.14</td>\n",
       "            <td>5.65</td>\n",
       "        </tr>\n",
       "        <tr>\n",
       "            <td>10</td>\n",
       "            <td>au</td>\n",
       "            <td>Austria</td>\n",
       "            <td>83871</td>\n",
       "            <td>82445</td>\n",
       "            <td>1426</td>\n",
       "            <td>8665550</td>\n",
       "            <td>0.55</td>\n",
       "            <td>9.41</td>\n",
       "            <td>9.42</td>\n",
       "            <td>5.56</td>\n",
       "        </tr>\n",
       "    </tbody>\n",
       "</table>"
      ],
      "text/plain": [
       "[(1, 'af', 'Afghanistan', 652230, 652230, 0, 32564342, 2.32, 38.57, 13.89, 1.51),\n",
       " (2, 'al', 'Albania', 28748, 27398, 1350, 3029278, 0.3, 12.92, 6.58, 3.3),\n",
       " (3, 'ag', 'Algeria', 2381741, 2381741, 0, 39542166, 1.84, 23.67, 4.31, 0.92),\n",
       " (4, 'an', 'Andorra', 468, 468, 0, 85580, 0.12, 8.13, 6.96, 0.0),\n",
       " (5, 'ao', 'Angola', 1246700, 1246700, 0, 19625353, 2.78, 38.78, 11.49, 0.46),\n",
       " (6, 'ac', 'Antigua and Barbuda', 442, 442, 0, 92436, 1.24, 15.85, 5.69, 2.21),\n",
       " (7, 'ar', 'Argentina', 2780400, 2736690, 43710, 43431886, 0.93, 16.64, 7.33, 0.0),\n",
       " (8, 'am', 'Armenia', 29743, 28203, 1540, 3056382, 0.15, 13.61, 9.34, 5.8),\n",
       " (9, 'as', 'Australia', 7741220, 7682300, 58920, 22751014, 1.07, 12.15, 7.14, 5.65),\n",
       " (10, 'au', 'Austria', 83871, 82445, 1426, 8665550, 0.55, 9.41, 9.42, 5.56)]"
      ]
     },
     "execution_count": 19,
     "metadata": {},
     "output_type": "execute_result"
    }
   ],
   "source": [
    "%%sql\n",
    "SELECT *\n",
    "FROM facts\n",
    "LIMIT 10;"
   ]
  },
  {
   "cell_type": "markdown",
   "id": "cee467fe",
   "metadata": {},
   "source": [
    "The 'facts' table consists of **11 columns** with descriptive names:\n",
    " - `code` — The country's [internet code](https://www.cia.gov/the-world-factbook/field/internet-country-code/).\n",
    " - `name` — Name of the country.\n",
    " - `area` — The country's total area (both land and water).\n",
    " - `area_land` — The country's land area in square kilometers.\n",
    " - `area_water` — The country's water area in square kilometers.\n",
    " - `population` — Whole number of people or inhabitants in the country.\n",
    " - `population_growth` — The country's population growth as a percentage.\n",
    " - `birth_rate` — The number of births per year per 1,000 inhabitants.\n",
    " - `death_rate` — The number of deaths per year per 1,000 inhabitants.\n",
    " - `migration_rate` — The difference between the number of persons entering and leaving the country during the year per 1,000 persons.\n",
    "\n",
    "Let's calculate the total number of records:"
   ]
  },
  {
   "cell_type": "code",
   "execution_count": 10,
   "id": "f5b382ac",
   "metadata": {},
   "outputs": [
    {
     "name": "stdout",
     "output_type": "stream",
     "text": [
      " * sqlite:///Desktop/factbook.db\n",
      "Done.\n"
     ]
    },
    {
     "data": {
      "text/html": [
       "<table>\n",
       "    <thead>\n",
       "        <tr>\n",
       "            <th>num_records</th>\n",
       "            <th>unique_countries</th>\n",
       "        </tr>\n",
       "    </thead>\n",
       "    <tbody>\n",
       "        <tr>\n",
       "            <td>261</td>\n",
       "            <td>261</td>\n",
       "        </tr>\n",
       "    </tbody>\n",
       "</table>"
      ],
      "text/plain": [
       "[(261, 261)]"
      ]
     },
     "execution_count": 10,
     "metadata": {},
     "output_type": "execute_result"
    }
   ],
   "source": [
    "%%sql\n",
    "SELECT COUNT(*) AS num_records,\n",
    "       COUNT(DISTINCT name) AS unique_countries\n",
    "  FROM facts;"
   ]
  },
  {
   "cell_type": "markdown",
   "id": "0924c664",
   "metadata": {},
   "source": [
    "We know there are only 195 countries in the world right now. The reason behind the discrepancy is how the CIA organizes its data. The CIA's World Factbook contains 267 entities, categorized as follows:\n",
    "\n",
    "1. **Independent countries**: This category has 195 entries, representing sovereign states with distinct territories.\n",
    "2. **Others**: There are 2 entities here - Taiwan and the European Union.\n",
    "3. **Dependencies and Areas of Special Sovereignty**: This group has 58 entries linked to other countries.\n",
    "4. **Miscellaneous**: Antarctica and disputed areas make up 6 entities.\n",
    "5. **Other entities**: Comprising the world and its 5 oceans.\n",
    "\n",
    "To explore this in our data, we can check for these categories."
   ]
  },
  {
   "cell_type": "code",
   "execution_count": 13,
   "id": "bf4e0f80",
   "metadata": {},
   "outputs": [
    {
     "name": "stdout",
     "output_type": "stream",
     "text": [
      " * sqlite:///Desktop/factbook.db\n",
      "Done.\n"
     ]
    },
    {
     "data": {
      "text/html": [
       "<table>\n",
       "    <thead>\n",
       "        <tr>\n",
       "            <th>id</th>\n",
       "            <th>code</th>\n",
       "            <th>name</th>\n",
       "            <th>area</th>\n",
       "            <th>area_land</th>\n",
       "            <th>area_water</th>\n",
       "            <th>population</th>\n",
       "            <th>population_growth</th>\n",
       "            <th>birth_rate</th>\n",
       "            <th>death_rate</th>\n",
       "            <th>migration_rate</th>\n",
       "        </tr>\n",
       "    </thead>\n",
       "    <tbody>\n",
       "        <tr>\n",
       "            <td>197</td>\n",
       "            <td>ee</td>\n",
       "            <td>European Union</td>\n",
       "            <td>4324782</td>\n",
       "            <td>None</td>\n",
       "            <td>None</td>\n",
       "            <td>513949445</td>\n",
       "            <td>0.25</td>\n",
       "            <td>10.2</td>\n",
       "            <td>10.2</td>\n",
       "            <td>2.5</td>\n",
       "        </tr>\n",
       "        <tr>\n",
       "            <td>199</td>\n",
       "            <td>kt</td>\n",
       "            <td>Christmas Island</td>\n",
       "            <td>135</td>\n",
       "            <td>135</td>\n",
       "            <td>0</td>\n",
       "            <td>1530</td>\n",
       "            <td>1.11</td>\n",
       "            <td>None</td>\n",
       "            <td>None</td>\n",
       "            <td>None</td>\n",
       "        </tr>\n",
       "        <tr>\n",
       "            <td>203</td>\n",
       "            <td>nf</td>\n",
       "            <td>Norfolk Island</td>\n",
       "            <td>36</td>\n",
       "            <td>36</td>\n",
       "            <td>0</td>\n",
       "            <td>2210</td>\n",
       "            <td>0.01</td>\n",
       "            <td>None</td>\n",
       "            <td>None</td>\n",
       "            <td>None</td>\n",
       "        </tr>\n",
       "        <tr>\n",
       "            <td>208</td>\n",
       "            <td>ip</td>\n",
       "            <td>Clipperton Island</td>\n",
       "            <td>6</td>\n",
       "            <td>6</td>\n",
       "            <td>0</td>\n",
       "            <td>None</td>\n",
       "            <td>None</td>\n",
       "            <td>None</td>\n",
       "            <td>None</td>\n",
       "            <td>None</td>\n",
       "        </tr>\n",
       "        <tr>\n",
       "            <td>222</td>\n",
       "            <td>bv</td>\n",
       "            <td>Bouvet Island</td>\n",
       "            <td>49</td>\n",
       "            <td>49</td>\n",
       "            <td>0</td>\n",
       "            <td>None</td>\n",
       "            <td>None</td>\n",
       "            <td>None</td>\n",
       "            <td>None</td>\n",
       "            <td>None</td>\n",
       "        </tr>\n",
       "        <tr>\n",
       "            <td>244</td>\n",
       "            <td>bq</td>\n",
       "            <td>Navassa Island</td>\n",
       "            <td>5</td>\n",
       "            <td>5</td>\n",
       "            <td>0</td>\n",
       "            <td>None</td>\n",
       "            <td>None</td>\n",
       "            <td>None</td>\n",
       "            <td>None</td>\n",
       "            <td>None</td>\n",
       "        </tr>\n",
       "        <tr>\n",
       "            <td>248</td>\n",
       "            <td>wq</td>\n",
       "            <td>Wake Island</td>\n",
       "            <td>6</td>\n",
       "            <td>6</td>\n",
       "            <td>0</td>\n",
       "            <td>None</td>\n",
       "            <td>None</td>\n",
       "            <td>None</td>\n",
       "            <td>None</td>\n",
       "            <td>None</td>\n",
       "        </tr>\n",
       "        <tr>\n",
       "            <td>256</td>\n",
       "            <td>xq</td>\n",
       "            <td>Arctic Ocean</td>\n",
       "            <td>None</td>\n",
       "            <td>None</td>\n",
       "            <td>None</td>\n",
       "            <td>None</td>\n",
       "            <td>None</td>\n",
       "            <td>None</td>\n",
       "            <td>None</td>\n",
       "            <td>None</td>\n",
       "        </tr>\n",
       "        <tr>\n",
       "            <td>257</td>\n",
       "            <td>zh</td>\n",
       "            <td>Atlantic Ocean</td>\n",
       "            <td>None</td>\n",
       "            <td>None</td>\n",
       "            <td>None</td>\n",
       "            <td>None</td>\n",
       "            <td>None</td>\n",
       "            <td>None</td>\n",
       "            <td>None</td>\n",
       "            <td>None</td>\n",
       "        </tr>\n",
       "        <tr>\n",
       "            <td>258</td>\n",
       "            <td>xo</td>\n",
       "            <td>Indian Ocean</td>\n",
       "            <td>None</td>\n",
       "            <td>None</td>\n",
       "            <td>None</td>\n",
       "            <td>None</td>\n",
       "            <td>None</td>\n",
       "            <td>None</td>\n",
       "            <td>None</td>\n",
       "            <td>None</td>\n",
       "        </tr>\n",
       "        <tr>\n",
       "            <td>259</td>\n",
       "            <td>zn</td>\n",
       "            <td>Pacific Ocean</td>\n",
       "            <td>None</td>\n",
       "            <td>None</td>\n",
       "            <td>None</td>\n",
       "            <td>None</td>\n",
       "            <td>None</td>\n",
       "            <td>None</td>\n",
       "            <td>None</td>\n",
       "            <td>None</td>\n",
       "        </tr>\n",
       "        <tr>\n",
       "            <td>260</td>\n",
       "            <td>oo</td>\n",
       "            <td>Southern Ocean</td>\n",
       "            <td>None</td>\n",
       "            <td>None</td>\n",
       "            <td>None</td>\n",
       "            <td>None</td>\n",
       "            <td>None</td>\n",
       "            <td>None</td>\n",
       "            <td>None</td>\n",
       "            <td>None</td>\n",
       "        </tr>\n",
       "        <tr>\n",
       "            <td>261</td>\n",
       "            <td>xx</td>\n",
       "            <td>World</td>\n",
       "            <td>None</td>\n",
       "            <td>None</td>\n",
       "            <td>None</td>\n",
       "            <td>7256490011</td>\n",
       "            <td>1.08</td>\n",
       "            <td>18.6</td>\n",
       "            <td>7.8</td>\n",
       "            <td>None</td>\n",
       "        </tr>\n",
       "    </tbody>\n",
       "</table>"
      ],
      "text/plain": [
       "[(197, 'ee', 'European Union', 4324782, None, None, 513949445, 0.25, 10.2, 10.2, 2.5),\n",
       " (199, 'kt', 'Christmas Island', 135, 135, 0, 1530, 1.11, None, None, None),\n",
       " (203, 'nf', 'Norfolk Island', 36, 36, 0, 2210, 0.01, None, None, None),\n",
       " (208, 'ip', 'Clipperton Island', 6, 6, 0, None, None, None, None, None),\n",
       " (222, 'bv', 'Bouvet Island', 49, 49, 0, None, None, None, None, None),\n",
       " (244, 'bq', 'Navassa Island', 5, 5, 0, None, None, None, None, None),\n",
       " (248, 'wq', 'Wake Island', 6, 6, 0, None, None, None, None, None),\n",
       " (256, 'xq', 'Arctic Ocean', None, None, None, None, None, None, None, None),\n",
       " (257, 'zh', 'Atlantic Ocean', None, None, None, None, None, None, None, None),\n",
       " (258, 'xo', 'Indian Ocean', None, None, None, None, None, None, None, None),\n",
       " (259, 'zn', 'Pacific Ocean', None, None, None, None, None, None, None, None),\n",
       " (260, 'oo', 'Southern Ocean', None, None, None, None, None, None, None, None),\n",
       " (261, 'xx', 'World', None, None, None, 7256490011, 1.08, 18.6, 7.8, None)]"
      ]
     },
     "execution_count": 13,
     "metadata": {},
     "output_type": "execute_result"
    }
   ],
   "source": [
    "%%sql\n",
    "-- check for some instances of \"non-country\" data\n",
    "SELECT *\n",
    "  FROM facts\n",
    " WHERE name LIKE '%union' \n",
    "    OR name LIKE '%ocean'\n",
    "    OR name LIKE '%island'\n",
    "    OR name = 'World';"
   ]
  },
  {
   "cell_type": "markdown",
   "id": "6b7c9f0b",
   "metadata": {},
   "source": [
    "Given the existence of these instances, it's crucial to be cautious to prevent them from affecting our analysis. Let's  now move forward with our analysis while keeping these factors in mind."
   ]
  },
  {
   "cell_type": "markdown",
   "id": "aac79b86",
   "metadata": {},
   "source": [
    "## Exploring Total Population\n",
    "<hr>"
   ]
  },
  {
   "cell_type": "markdown",
   "id": "b8960cdd",
   "metadata": {},
   "source": [
    "%%sql \n",
    "SELECT MIN(population) AS min_population,\n",
    "       CAST(AVG(population) AS Integer) AS avg_population,\n",
    "       MAX(population) AS max_pop\n",
    "  FROM facts;"
   ]
  },
  {
   "cell_type": "markdown",
   "id": "1f35688c",
   "metadata": {},
   "source": [
    "Some entities have population values of zero, while another entity is recorded with a population exceeding 7 billion. This appears unlikely given the current global population of around 7.96 billion (Worldometer, Aug 2022). Investigating these anomalies is essential."
   ]
  },
  {
   "cell_type": "code",
   "execution_count": 15,
   "id": "0abdb0aa",
   "metadata": {},
   "outputs": [
    {
     "name": "stdout",
     "output_type": "stream",
     "text": [
      " * sqlite:///Desktop/factbook.db\n",
      "Done.\n"
     ]
    },
    {
     "data": {
      "text/html": [
       "<table>\n",
       "    <thead>\n",
       "        <tr>\n",
       "            <th>name</th>\n",
       "            <th>population</th>\n",
       "        </tr>\n",
       "    </thead>\n",
       "    <tbody>\n",
       "        <tr>\n",
       "            <td>Antarctica</td>\n",
       "            <td>0</td>\n",
       "        </tr>\n",
       "        <tr>\n",
       "            <td>World</td>\n",
       "            <td>7256490011</td>\n",
       "        </tr>\n",
       "    </tbody>\n",
       "</table>"
      ],
      "text/plain": [
       "[('Antarctica', 0), ('World', 7256490011)]"
      ]
     },
     "execution_count": 15,
     "metadata": {},
     "output_type": "execute_result"
    }
   ],
   "source": [
    "%%sql \n",
    "-- Investigate the unusual countries/entities\n",
    "SELECT name, population\n",
    "  FROM facts\n",
    " WHERE population = (SELECT MIN(population) FROM facts) \n",
    "    OR population = (SELECT MAX(population) FROM facts);"
   ]
  },
  {
   "cell_type": "markdown",
   "id": "aa0fcc53",
   "metadata": {},
   "source": [
    "As seen before, entries like 'World' and 'Antarctica' contribute to these unusual population values. For instance, Antarctica's population consists only of research staff at research stations. Furthermore, the population value of 7,256,490,011 is interesting. It's possible that the CIA collected this data between 2014 and 2015, reflecting global population trends. \n",
    "\n",
    "![World Population by Year](world_population.jpg)\n",
    "\n",
    "***Image source***: [Worldometer](https://www.worldometers.info/world-population/world-population-by-year/)."
   ]
  },
  {
   "cell_type": "code",
   "execution_count": 16,
   "id": "41e2f7c1",
   "metadata": {},
   "outputs": [
    {
     "name": "stdout",
     "output_type": "stream",
     "text": [
      " * sqlite:///Desktop/factbook.db\n",
      "Done.\n"
     ]
    },
    {
     "data": {
      "text/html": [
       "<table>\n",
       "    <thead>\n",
       "        <tr>\n",
       "            <th>min_pop</th>\n",
       "            <th>avg_pop</th>\n",
       "            <th>max_pop</th>\n",
       "        </tr>\n",
       "    </thead>\n",
       "    <tbody>\n",
       "        <tr>\n",
       "            <td>48</td>\n",
       "            <td>32377011</td>\n",
       "            <td>1367485388</td>\n",
       "        </tr>\n",
       "    </tbody>\n",
       "</table>"
      ],
      "text/plain": [
       "[(48, 32377011, 1367485388)]"
      ]
     },
     "execution_count": 16,
     "metadata": {},
     "output_type": "execute_result"
    }
   ],
   "source": [
    "%%sql \n",
    "SELECT MIN(population) AS min_pop,\n",
    "       CAST(AVG(population) AS Integer) AS avg_pop,\n",
    "       MAX(population) AS max_pop\n",
    "  FROM facts\n",
    " WHERE population != 0 \n",
    "   AND name != 'World';"
   ]
  },
  {
   "cell_type": "markdown",
   "id": "9da6c711",
   "metadata": {},
   "source": [
    "The lowest population is 48, while the highest exceeds 1.3 billion. On average, the population hovers around 32 million residents. With this information, we can proceed to pinpoint the most and least populated countries or entities."
   ]
  },
  {
   "cell_type": "markdown",
   "id": "40e492d8",
   "metadata": {},
   "source": [
    "## Finding Densely Populated Countries\n",
    "<hr>"
   ]
  },
  {
   "cell_type": "markdown",
   "id": "f856c6a5",
   "metadata": {},
   "source": [
    "\n",
    "![Population Density](https://images.nationalgeographic.org/image/upload/v1652341489/EducationHub/photos/population-density.png)\n"
   ]
  },
  {
   "cell_type": "code",
   "execution_count": 21,
   "id": "5f9252f2",
   "metadata": {},
   "outputs": [
    {
     "name": "stdout",
     "output_type": "stream",
     "text": [
      " * sqlite:///Desktop/factbook.db\n",
      "Done.\n"
     ]
    },
    {
     "data": {
      "text/html": [
       "<table>\n",
       "    <thead>\n",
       "        <tr>\n",
       "            <th>top_5_populated</th>\n",
       "            <th>population</th>\n",
       "        </tr>\n",
       "    </thead>\n",
       "    <tbody>\n",
       "        <tr>\n",
       "            <td>China</td>\n",
       "            <td>1367485388</td>\n",
       "        </tr>\n",
       "        <tr>\n",
       "            <td>India</td>\n",
       "            <td>1251695584</td>\n",
       "        </tr>\n",
       "        <tr>\n",
       "            <td>European Union</td>\n",
       "            <td>513949445</td>\n",
       "        </tr>\n",
       "        <tr>\n",
       "            <td>United States</td>\n",
       "            <td>321368864</td>\n",
       "        </tr>\n",
       "        <tr>\n",
       "            <td>Indonesia</td>\n",
       "            <td>255993674</td>\n",
       "        </tr>\n",
       "    </tbody>\n",
       "</table>"
      ],
      "text/plain": [
       "[('China', 1367485388),\n",
       " ('India', 1251695584),\n",
       " ('European Union', 513949445),\n",
       " ('United States', 321368864),\n",
       " ('Indonesia', 255993674)]"
      ]
     },
     "execution_count": 21,
     "metadata": {},
     "output_type": "execute_result"
    }
   ],
   "source": [
    "%%sql \n",
    "SELECT name AS top_5_populated,\n",
    "       population\n",
    "  FROM facts\n",
    " WHERE population <> 0 \n",
    "   AND name <> 'World'\n",
    " ORDER BY 2 DESC\n",
    " LIMIT 5;"
   ]
  },
  {
   "cell_type": "markdown",
   "id": "741d0468",
   "metadata": {},
   "source": [
    "The European Union is not a country; it is better to filter out the EU. Next, we'll calculate the proportion of the world's population that each country holds."
   ]
  },
  {
   "cell_type": "code",
   "execution_count": 22,
   "id": "f079fb4c",
   "metadata": {},
   "outputs": [
    {
     "name": "stdout",
     "output_type": "stream",
     "text": [
      " * sqlite:///Desktop/factbook.db\n",
      "Done.\n"
     ]
    },
    {
     "data": {
      "text/html": [
       "<table>\n",
       "    <thead>\n",
       "        <tr>\n",
       "            <th>5 Most Populated Countries</th>\n",
       "            <th>population</th>\n",
       "            <th>world_proportion</th>\n",
       "        </tr>\n",
       "    </thead>\n",
       "    <tbody>\n",
       "        <tr>\n",
       "            <td>China</td>\n",
       "            <td>1367485388</td>\n",
       "            <td>0.188</td>\n",
       "        </tr>\n",
       "        <tr>\n",
       "            <td>India</td>\n",
       "            <td>1251695584</td>\n",
       "            <td>0.172</td>\n",
       "        </tr>\n",
       "        <tr>\n",
       "            <td>United States</td>\n",
       "            <td>321368864</td>\n",
       "            <td>0.044</td>\n",
       "        </tr>\n",
       "        <tr>\n",
       "            <td>Indonesia</td>\n",
       "            <td>255993674</td>\n",
       "            <td>0.035</td>\n",
       "        </tr>\n",
       "        <tr>\n",
       "            <td>Brazil</td>\n",
       "            <td>204259812</td>\n",
       "            <td>0.028</td>\n",
       "        </tr>\n",
       "    </tbody>\n",
       "</table>"
      ],
      "text/plain": [
       "[('China', 1367485388, 0.188),\n",
       " ('India', 1251695584, 0.172),\n",
       " ('United States', 321368864, 0.044),\n",
       " ('Indonesia', 255993674, 0.035),\n",
       " ('Brazil', 204259812, 0.028)]"
      ]
     },
     "execution_count": 22,
     "metadata": {},
     "output_type": "execute_result"
    }
   ],
   "source": [
    "%%sql \n",
    "SELECT name AS \"5 Most Populated Countries\",\n",
    "       population,\n",
    "       ROUND(\n",
    "              CAST(population AS Float) / \n",
    "              CAST((SELECT MAX(population) FROM facts) AS Float)\n",
    "             , 3) AS world_proportion\n",
    "  FROM facts\n",
    " WHERE population <> 0 \n",
    "   AND name NOT IN ('World', 'European Union')\n",
    " ORDER BY 2 DESC\n",
    " LIMIT 5;"
   ]
  },
  {
   "cell_type": "markdown",
   "id": "7af17098",
   "metadata": {},
   "source": [
    " - China leads with 1.37 billion people, followed by India with 1.26 billion. China and India together contribute to 36% of the world's population. \n",
    "\n",
    " - The United States, Indonesia, and Brazil follow with 11%, adding up to 46% of the global population."
   ]
  },
  {
   "cell_type": "markdown",
   "id": "e36e92e4",
   "metadata": {},
   "source": [
    "## Exploring Population Density\n",
    "<hr>\n",
    "\n",
    "![Population Density](population_density.jpg)"
   ]
  },
  {
   "cell_type": "markdown",
   "id": "12dba0a3",
   "metadata": {},
   "source": [
    "[National Geographic](https://education.nationalgeographic.org/resource/population-density/) simplifies this concept: population density refers to the number of individuals within a species in a particular geographic area. Utilizing population density data helps measure demographic details and understand connections with ecosystems, human well-being, and infrastructure.\n",
    "\n",
    "Our dataset offers variables that allow us to estimate population density as outlined below:"
   ]
  },
  {
   "cell_type": "markdown",
   "id": "fd7dfee5",
   "metadata": {},
   "source": [
    "$$\n",
    "Population\\ density = \\frac{Total\\ population}{Land\\ area\\ (km^2)}\n",
    "$$"
   ]
  },
  {
   "cell_type": "markdown",
   "id": "8b223213",
   "metadata": {},
   "source": [
    "Before calculating population densities for each country, it's essential to remove any instances where population density or land area might be zero or null."
   ]
  },
  {
   "cell_type": "code",
   "execution_count": 24,
   "id": "02841139",
   "metadata": {},
   "outputs": [
    {
     "name": "stdout",
     "output_type": "stream",
     "text": [
      " * sqlite:///Desktop/factbook.db\n",
      "Done.\n"
     ]
    },
    {
     "data": {
      "text/html": [
       "<table>\n",
       "    <thead>\n",
       "        <tr>\n",
       "            <th>COUNT(*)</th>\n",
       "        </tr>\n",
       "    </thead>\n",
       "    <tbody>\n",
       "        <tr>\n",
       "            <td>29</td>\n",
       "        </tr>\n",
       "    </tbody>\n",
       "</table>"
      ],
      "text/plain": [
       "[(29,)]"
      ]
     },
     "execution_count": 24,
     "metadata": {},
     "output_type": "execute_result"
    }
   ],
   "source": [
    "%%sql\n",
    "SELECT COUNT(*)\n",
    "  FROM facts\n",
    " WHERE population = 0\n",
    "     OR population IS NULL\n",
    "     OR area_land = 0\n",
    "     OR area_land IS NULL;"
   ]
  },
  {
   "cell_type": "code",
   "execution_count": 25,
   "id": "0d0e70ac",
   "metadata": {},
   "outputs": [
    {
     "name": "stdout",
     "output_type": "stream",
     "text": [
      " * sqlite:///Desktop/factbook.db\n",
      "Done.\n"
     ]
    },
    {
     "data": {
      "text/html": [
       "<table>\n",
       "    <thead>\n",
       "        <tr>\n",
       "            <th>name</th>\n",
       "            <th>area_land</th>\n",
       "            <th>population</th>\n",
       "            <th>population_density</th>\n",
       "        </tr>\n",
       "    </thead>\n",
       "    <tbody>\n",
       "        <tr>\n",
       "            <td>Macau</td>\n",
       "            <td>28</td>\n",
       "            <td>592731</td>\n",
       "            <td>21168</td>\n",
       "        </tr>\n",
       "        <tr>\n",
       "            <td>Monaco</td>\n",
       "            <td>2</td>\n",
       "            <td>30535</td>\n",
       "            <td>15267</td>\n",
       "        </tr>\n",
       "        <tr>\n",
       "            <td>Singapore</td>\n",
       "            <td>687</td>\n",
       "            <td>5674472</td>\n",
       "            <td>8259</td>\n",
       "        </tr>\n",
       "        <tr>\n",
       "            <td>Hong Kong</td>\n",
       "            <td>1073</td>\n",
       "            <td>7141106</td>\n",
       "            <td>6655</td>\n",
       "        </tr>\n",
       "        <tr>\n",
       "            <td>Gaza Strip</td>\n",
       "            <td>360</td>\n",
       "            <td>1869055</td>\n",
       "            <td>5191</td>\n",
       "        </tr>\n",
       "        <tr>\n",
       "            <td>Gibraltar</td>\n",
       "            <td>6</td>\n",
       "            <td>29258</td>\n",
       "            <td>4876</td>\n",
       "        </tr>\n",
       "        <tr>\n",
       "            <td>Bahrain</td>\n",
       "            <td>760</td>\n",
       "            <td>1346613</td>\n",
       "            <td>1771</td>\n",
       "        </tr>\n",
       "        <tr>\n",
       "            <td>Maldives</td>\n",
       "            <td>298</td>\n",
       "            <td>393253</td>\n",
       "            <td>1319</td>\n",
       "        </tr>\n",
       "        <tr>\n",
       "            <td>Malta</td>\n",
       "            <td>316</td>\n",
       "            <td>413965</td>\n",
       "            <td>1310</td>\n",
       "        </tr>\n",
       "        <tr>\n",
       "            <td>Bermuda</td>\n",
       "            <td>54</td>\n",
       "            <td>70196</td>\n",
       "            <td>1299</td>\n",
       "        </tr>\n",
       "    </tbody>\n",
       "</table>"
      ],
      "text/plain": [
       "[('Macau', 28, 592731, 21168),\n",
       " ('Monaco', 2, 30535, 15267),\n",
       " ('Singapore', 687, 5674472, 8259),\n",
       " ('Hong Kong', 1073, 7141106, 6655),\n",
       " ('Gaza Strip', 360, 1869055, 5191),\n",
       " ('Gibraltar', 6, 29258, 4876),\n",
       " ('Bahrain', 760, 1346613, 1771),\n",
       " ('Maldives', 298, 393253, 1319),\n",
       " ('Malta', 316, 413965, 1310),\n",
       " ('Bermuda', 54, 70196, 1299)]"
      ]
     },
     "execution_count": 25,
     "metadata": {},
     "output_type": "execute_result"
    }
   ],
   "source": [
    "%%sql\n",
    "SELECT name, area_land, population,\n",
    "       CAST(\n",
    "            CAST(population AS Float) / \n",
    "              CAST(area_land AS Float) \n",
    "           AS Integer) AS population_density\n",
    "  FROM facts\n",
    "-- Filter out countries with zero or missing population/land area\n",
    " WHERE name NOT IN (SELECT name\n",
    "                      FROM facts\n",
    "                     WHERE population = 0\n",
    "                         OR population IS NULL\n",
    "                         OR area_land = 0\n",
    "                         OR area_land IS NULL\n",
    "                   )\n",
    " ORDER BY 4 DESC\n",
    " LIMIT 10;"
   ]
  },
  {
   "cell_type": "markdown",
   "id": "38af5862",
   "metadata": {},
   "source": [
    "It's worth highlighting that these places are notably compact. The collective land area of the top five is under 3,000 km². Additionally, many of these locations are urbanized hubs of affluence and finance, leaning towards cityscapes and skyscrapers rather than open landscapes or extensive wilderness ([see here](https://worldpopulationreview.com/country-rankings/countries-by-density)).\n",
    "\n",
    "To potentially mitigate this bias, we might consider redefining what qualifies as a densely populated country. In our context, we will define a densely populated area as one with less land area and a higher population count compared to other regions."
   ]
  },
  {
   "cell_type": "markdown",
   "id": "09e32a2d",
   "metadata": {},
   "source": [
    "$$\n",
    "For\\ a\\ densely\\ populated\\ country\\ or\\ territory:\\\\\n",
    "Total\\ population > Average\\ world\\ population\\\\\n",
    "AND\\ Land\\ area < World\\ average\\ land\\ area\n",
    "$$"
   ]
  },
  {
   "cell_type": "markdown",
   "id": "0b6d2081",
   "metadata": {},
   "source": [
    "Let's use this rule to identify the most densely populated countries:"
   ]
  },
  {
   "cell_type": "code",
   "execution_count": 26,
   "id": "01779889",
   "metadata": {},
   "outputs": [
    {
     "name": "stdout",
     "output_type": "stream",
     "text": [
      " * sqlite:///Desktop/factbook.db\n",
      "Done.\n"
     ]
    },
    {
     "data": {
      "text/html": [
       "<table>\n",
       "    <thead>\n",
       "        <tr>\n",
       "            <th>name</th>\n",
       "            <th>area_land</th>\n",
       "            <th>population</th>\n",
       "            <th>population_density</th>\n",
       "        </tr>\n",
       "    </thead>\n",
       "    <tbody>\n",
       "        <tr>\n",
       "            <td>Bangladesh</td>\n",
       "            <td>130170</td>\n",
       "            <td>168957745</td>\n",
       "            <td>1297</td>\n",
       "        </tr>\n",
       "        <tr>\n",
       "            <td>Korea, South</td>\n",
       "            <td>96920</td>\n",
       "            <td>49115196</td>\n",
       "            <td>506</td>\n",
       "        </tr>\n",
       "        <tr>\n",
       "            <td>Japan</td>\n",
       "            <td>364485</td>\n",
       "            <td>126919659</td>\n",
       "            <td>348</td>\n",
       "        </tr>\n",
       "        <tr>\n",
       "            <td>Philippines</td>\n",
       "            <td>298170</td>\n",
       "            <td>100998376</td>\n",
       "            <td>338</td>\n",
       "        </tr>\n",
       "        <tr>\n",
       "            <td>Vietnam</td>\n",
       "            <td>310070</td>\n",
       "            <td>94348835</td>\n",
       "            <td>304</td>\n",
       "        </tr>\n",
       "        <tr>\n",
       "            <td>United Kingdom</td>\n",
       "            <td>241930</td>\n",
       "            <td>64088222</td>\n",
       "            <td>264</td>\n",
       "        </tr>\n",
       "        <tr>\n",
       "            <td>Germany</td>\n",
       "            <td>348672</td>\n",
       "            <td>80854408</td>\n",
       "            <td>231</td>\n",
       "        </tr>\n",
       "        <tr>\n",
       "            <td>Nepal</td>\n",
       "            <td>143351</td>\n",
       "            <td>31551305</td>\n",
       "            <td>220</td>\n",
       "        </tr>\n",
       "        <tr>\n",
       "            <td>Italy</td>\n",
       "            <td>294140</td>\n",
       "            <td>61855120</td>\n",
       "            <td>210</td>\n",
       "        </tr>\n",
       "        <tr>\n",
       "            <td>Uganda</td>\n",
       "            <td>197100</td>\n",
       "            <td>37101745</td>\n",
       "            <td>188</td>\n",
       "        </tr>\n",
       "    </tbody>\n",
       "</table>"
      ],
      "text/plain": [
       "[('Bangladesh', 130170, 168957745, 1297),\n",
       " ('Korea, South', 96920, 49115196, 506),\n",
       " ('Japan', 364485, 126919659, 348),\n",
       " ('Philippines', 298170, 100998376, 338),\n",
       " ('Vietnam', 310070, 94348835, 304),\n",
       " ('United Kingdom', 241930, 64088222, 264),\n",
       " ('Germany', 348672, 80854408, 231),\n",
       " ('Nepal', 143351, 31551305, 220),\n",
       " ('Italy', 294140, 61855120, 210),\n",
       " ('Uganda', 197100, 37101745, 188)]"
      ]
     },
     "execution_count": 26,
     "metadata": {},
     "output_type": "execute_result"
    }
   ],
   "source": [
    "%%sql\n",
    "-- Identify countries with zero or missing population/land area\n",
    "WITH t1 AS (SELECT name\n",
    "              FROM facts\n",
    "             WHERE population = 0\n",
    "                 OR population IS NULL\n",
    "                 OR area_land = 0\n",
    "                 OR area_land IS NULL\n",
    "           ),\n",
    "\n",
    "-- Calculate population density for countries without missing data  \n",
    "     t2 AS (SELECT name, area_land, population,\n",
    "                   CAST(\n",
    "                        CAST(population AS Float) / \n",
    "                          CAST(area_land AS Float) \n",
    "                      AS Integer) AS population_density\n",
    "              FROM facts\n",
    "             WHERE name NOT IN t1)\n",
    "    \n",
    "-- Isolate countries with high population and low land area\n",
    "SELECT *\n",
    "  FROM t2\n",
    " WHERE area_land < (SELECT AVG(area_land) FROM t2)\n",
    "     AND population > (SELECT AVG(population) FROM t2)\n",
    " ORDER BY population_density DESC\n",
    " LIMIT 10;"
   ]
  },
  {
   "cell_type": "markdown",
   "id": "ff45198e",
   "metadata": {},
   "source": [
    "Bangladesh takes the lead with a combination of high population and limited land area, resulting in a population density of 1,297 people per square kilometer. Notably, Bangladesh's population density is more than double that of the second-ranked South Korea. Japan, the Philippines, and Vietnam come after, continuing the list."
   ]
  },
  {
   "cell_type": "markdown",
   "id": "efb6cffd",
   "metadata": {},
   "source": [
    "## Mortality and Fertility"
   ]
  },
  {
   "cell_type": "markdown",
   "id": "80c3ecec",
   "metadata": {},
   "source": [
    "The fluctuation in the global population hinges on two key metrics: births and deaths. In 2021, the worldwide crude death rate stood at 7.64 deaths per thousand people, while the crude birth rate reached 17.76 births per thousand. This ratio implies approximately 2.3 births for each death.\n",
    "\n",
    "Now, let's extract the corresponding data from our dataset:"
   ]
  },
  {
   "cell_type": "code",
   "execution_count": 27,
   "id": "4917d9b6",
   "metadata": {},
   "outputs": [
    {
     "name": "stdout",
     "output_type": "stream",
     "text": [
      " * sqlite:///Desktop/factbook.db\n",
      "Done.\n"
     ]
    },
    {
     "data": {
      "text/html": [
       "<table>\n",
       "    <thead>\n",
       "        <tr>\n",
       "            <th>birth_rate</th>\n",
       "            <th>death_rate</th>\n",
       "            <th>birth_to_death_ratio</th>\n",
       "        </tr>\n",
       "    </thead>\n",
       "    <tbody>\n",
       "        <tr>\n",
       "            <td>18.6</td>\n",
       "            <td>7.8</td>\n",
       "            <td>2.38</td>\n",
       "        </tr>\n",
       "    </tbody>\n",
       "</table>"
      ],
      "text/plain": [
       "[(18.6, 7.8, 2.38)]"
      ]
     },
     "execution_count": 27,
     "metadata": {},
     "output_type": "execute_result"
    }
   ],
   "source": [
    "%%sql \n",
    "SELECT birth_rate, death_rate,\n",
    "       ROUND((birth_rate / death_rate), 2) AS birth_to_death_ratio\n",
    "  FROM facts\n",
    " WHERE name = 'World';"
   ]
  },
  {
   "cell_type": "markdown",
   "id": "976c3f3d",
   "metadata": {},
   "source": [
    "Our data uncovers a comparable trend, indicating approximately 2.4 births for every recorded death."
   ]
  },
  {
   "cell_type": "markdown",
   "id": "8437fd20",
   "metadata": {},
   "source": [
    "### Countries with the Highest Birth Rates"
   ]
  },
  {
   "cell_type": "code",
   "execution_count": 28,
   "id": "e083c82c",
   "metadata": {},
   "outputs": [
    {
     "name": "stdout",
     "output_type": "stream",
     "text": [
      " * sqlite:///Desktop/factbook.db\n",
      "Done.\n"
     ]
    },
    {
     "data": {
      "text/html": [
       "<table>\n",
       "    <thead>\n",
       "        <tr>\n",
       "            <th>name</th>\n",
       "            <th>birth_rate</th>\n",
       "        </tr>\n",
       "    </thead>\n",
       "    <tbody>\n",
       "        <tr>\n",
       "            <td>Niger</td>\n",
       "            <td>45.45</td>\n",
       "        </tr>\n",
       "        <tr>\n",
       "            <td>Mali</td>\n",
       "            <td>44.99</td>\n",
       "        </tr>\n",
       "        <tr>\n",
       "            <td>Uganda</td>\n",
       "            <td>43.79</td>\n",
       "        </tr>\n",
       "        <tr>\n",
       "            <td>Zambia</td>\n",
       "            <td>42.13</td>\n",
       "        </tr>\n",
       "        <tr>\n",
       "            <td>Burkina Faso</td>\n",
       "            <td>42.03</td>\n",
       "        </tr>\n",
       "        <tr>\n",
       "            <td>Burundi</td>\n",
       "            <td>42.01</td>\n",
       "        </tr>\n",
       "        <tr>\n",
       "            <td>Malawi</td>\n",
       "            <td>41.56</td>\n",
       "        </tr>\n",
       "        <tr>\n",
       "            <td>Somalia</td>\n",
       "            <td>40.45</td>\n",
       "        </tr>\n",
       "        <tr>\n",
       "            <td>Angola</td>\n",
       "            <td>38.78</td>\n",
       "        </tr>\n",
       "        <tr>\n",
       "            <td>Mozambique</td>\n",
       "            <td>38.58</td>\n",
       "        </tr>\n",
       "    </tbody>\n",
       "</table>"
      ],
      "text/plain": [
       "[('Niger', 45.45),\n",
       " ('Mali', 44.99),\n",
       " ('Uganda', 43.79),\n",
       " ('Zambia', 42.13),\n",
       " ('Burkina Faso', 42.03),\n",
       " ('Burundi', 42.01),\n",
       " ('Malawi', 41.56),\n",
       " ('Somalia', 40.45),\n",
       " ('Angola', 38.78),\n",
       " ('Mozambique', 38.58)]"
      ]
     },
     "execution_count": 28,
     "metadata": {},
     "output_type": "execute_result"
    }
   ],
   "source": [
    "%%sql \n",
    "SELECT name, birth_rate\n",
    "  FROM facts\n",
    " WHERE name != 'World'\n",
    " ORDER BY 2 DESC\n",
    " LIMIT 10;"
   ]
  },
  {
   "cell_type": "markdown",
   "id": "769be9f5",
   "metadata": {},
   "source": [
    "Niger has the highest birth rate in the world at 45.45 average annual births per 1,000 people per year. Mali (44.99), Uganda (43.79), Zambia (42.13), and Burkina Faso (42.03) follow closely behind. All countries in the top-10 list belong to Africa.\n",
    "\n",
    "Significant population growth within a nation is often linked to factors such as a struggling economy, limited awareness and preventive measures, or challenging living conditions. The absence of accessible birth control and contraception in developing countries further amplifies higher fertility rates. Statistical data has indicated that the fertility rate per woman in low-income countries is twice the global average. Consequently, this phenomenon is reflected in the fact that all ten of the countries with the highest birth rates are situated in Africa, as depicted earlier."
   ]
  },
  {
   "cell_type": "markdown",
   "id": "2dcd26b8",
   "metadata": {},
   "source": [
    "### Countries with the Lowest Birth Rates"
   ]
  },
  {
   "cell_type": "code",
   "execution_count": 29,
   "id": "398c2aa3",
   "metadata": {},
   "outputs": [
    {
     "name": "stdout",
     "output_type": "stream",
     "text": [
      " * sqlite:///Desktop/factbook.db\n",
      "Done.\n"
     ]
    },
    {
     "data": {
      "text/html": [
       "<table>\n",
       "    <thead>\n",
       "        <tr>\n",
       "            <th>name</th>\n",
       "            <th>birth_rate</th>\n",
       "        </tr>\n",
       "    </thead>\n",
       "    <tbody>\n",
       "        <tr>\n",
       "            <td>Monaco</td>\n",
       "            <td>6.65</td>\n",
       "        </tr>\n",
       "        <tr>\n",
       "            <td>Saint Pierre and Miquelon</td>\n",
       "            <td>7.42</td>\n",
       "        </tr>\n",
       "        <tr>\n",
       "            <td>Japan</td>\n",
       "            <td>7.93</td>\n",
       "        </tr>\n",
       "        <tr>\n",
       "            <td>Andorra</td>\n",
       "            <td>8.13</td>\n",
       "        </tr>\n",
       "        <tr>\n",
       "            <td>Korea, South</td>\n",
       "            <td>8.19</td>\n",
       "        </tr>\n",
       "        <tr>\n",
       "            <td>Singapore</td>\n",
       "            <td>8.27</td>\n",
       "        </tr>\n",
       "        <tr>\n",
       "            <td>Slovenia</td>\n",
       "            <td>8.42</td>\n",
       "        </tr>\n",
       "        <tr>\n",
       "            <td>Germany</td>\n",
       "            <td>8.47</td>\n",
       "        </tr>\n",
       "        <tr>\n",
       "            <td>Taiwan</td>\n",
       "            <td>8.47</td>\n",
       "        </tr>\n",
       "        <tr>\n",
       "            <td>San Marino</td>\n",
       "            <td>8.63</td>\n",
       "        </tr>\n",
       "    </tbody>\n",
       "</table>"
      ],
      "text/plain": [
       "[('Monaco', 6.65),\n",
       " ('Saint Pierre and Miquelon', 7.42),\n",
       " ('Japan', 7.93),\n",
       " ('Andorra', 8.13),\n",
       " ('Korea, South', 8.19),\n",
       " ('Singapore', 8.27),\n",
       " ('Slovenia', 8.42),\n",
       " ('Germany', 8.47),\n",
       " ('Taiwan', 8.47),\n",
       " ('San Marino', 8.63)]"
      ]
     },
     "execution_count": 29,
     "metadata": {},
     "output_type": "execute_result"
    }
   ],
   "source": [
    "%%sql \n",
    "SELECT name, birth_rate\n",
    "  FROM facts\n",
    " WHERE name != 'World'\n",
    "-- Filter out entries without birth rates\n",
    "     AND birth_rate IS NOT NULL\n",
    " ORDER BY 2 ASC\n",
    " LIMIT 10;"
   ]
  },
  {
   "cell_type": "markdown",
   "id": "a61166f2",
   "metadata": {},
   "source": [
    "Conversely, the CIA's calculations reveal that Monaco holds the title for the world's lowest birth rate, standing at an average of 6.65 annual births per 1,000 individuals. The inclusion of Saint Pierre on the list is easily understandable given its small population size. Japan (7.93), Andorra (8.13), and South Korea (8.19) follow closely, securing the 3rd to 5th positions.\n",
    "\n",
    "This [Wikipedia article](https://en.wikipedia.org/wiki/Total_fertility_rate) delves into the factors behind the low birth rates observed in Asian regions such as Japan, South Korea, Taiwan, and Singapore. It identifies aging populations and socio-economic challenges as the primary drivers of these outcomes."
   ]
  },
  {
   "cell_type": "markdown",
   "id": "619dcf4c",
   "metadata": {},
   "source": [
    "### Countries with the Highest Death Rates"
   ]
  },
  {
   "cell_type": "code",
   "execution_count": 30,
   "id": "64cff2ed",
   "metadata": {},
   "outputs": [
    {
     "name": "stdout",
     "output_type": "stream",
     "text": [
      " * sqlite:///Desktop/factbook.db\n",
      "Done.\n"
     ]
    },
    {
     "data": {
      "text/html": [
       "<table>\n",
       "    <thead>\n",
       "        <tr>\n",
       "            <th>name</th>\n",
       "            <th>death_rate</th>\n",
       "        </tr>\n",
       "    </thead>\n",
       "    <tbody>\n",
       "        <tr>\n",
       "            <td>Lesotho</td>\n",
       "            <td>14.89</td>\n",
       "        </tr>\n",
       "        <tr>\n",
       "            <td>Ukraine</td>\n",
       "            <td>14.46</td>\n",
       "        </tr>\n",
       "        <tr>\n",
       "            <td>Bulgaria</td>\n",
       "            <td>14.44</td>\n",
       "        </tr>\n",
       "        <tr>\n",
       "            <td>Guinea-Bissau</td>\n",
       "            <td>14.33</td>\n",
       "        </tr>\n",
       "        <tr>\n",
       "            <td>Latvia</td>\n",
       "            <td>14.31</td>\n",
       "        </tr>\n",
       "        <tr>\n",
       "            <td>Chad</td>\n",
       "            <td>14.28</td>\n",
       "        </tr>\n",
       "        <tr>\n",
       "            <td>Lithuania</td>\n",
       "            <td>14.27</td>\n",
       "        </tr>\n",
       "        <tr>\n",
       "            <td>Namibia</td>\n",
       "            <td>13.91</td>\n",
       "        </tr>\n",
       "        <tr>\n",
       "            <td>Afghanistan</td>\n",
       "            <td>13.89</td>\n",
       "        </tr>\n",
       "        <tr>\n",
       "            <td>Central African Republic</td>\n",
       "            <td>13.8</td>\n",
       "        </tr>\n",
       "    </tbody>\n",
       "</table>"
      ],
      "text/plain": [
       "[('Lesotho', 14.89),\n",
       " ('Ukraine', 14.46),\n",
       " ('Bulgaria', 14.44),\n",
       " ('Guinea-Bissau', 14.33),\n",
       " ('Latvia', 14.31),\n",
       " ('Chad', 14.28),\n",
       " ('Lithuania', 14.27),\n",
       " ('Namibia', 13.91),\n",
       " ('Afghanistan', 13.89),\n",
       " ('Central African Republic', 13.8)]"
      ]
     },
     "execution_count": 30,
     "metadata": {},
     "output_type": "execute_result"
    }
   ],
   "source": [
    "%%sql \n",
    "SELECT name, death_rate\n",
    "  FROM facts\n",
    " WHERE name != 'World'\n",
    " ORDER BY 2 DESC\n",
    " LIMIT 10;"
   ]
  },
  {
   "cell_type": "markdown",
   "id": "59fc7c60",
   "metadata": {},
   "source": [
    "Ranking in the 1st and 4th positions are African nations Lesotho (with a death rate of 14.89 deaths per 100 people) and Guinea-Bissau (with a rate of 14.33). Reports from the CDC and the Borgen Project indicate that infections and poverty stand as the primary causes of death in these regions.\n",
    "\n",
    "Meanwhile, the European countries Ukraine (14.46), Bulgaria (14.44), and Latvia (14.3) secure the 2nd, 3rd, and 5th positions, respectively. In contrast to the pattern observed in African countries, studies unveil that non-infectious diseases like circulatory, digestive, respiratory diseases, and cancers are the leading causes of death in these European territories. Poor healthcare administration is identified as a contributing factor to death in Ukraine and Latvia.\n",
    "\n",
    "As global efforts to combat infectious diseases improve, sources have documented declining death rates in Lesotho and Guinea-Bissau. In contrast, Latvia, Ukraine, and Bulgaria are grappling with increasing death rates."
   ]
  },
  {
   "cell_type": "markdown",
   "id": "5e3c5d75",
   "metadata": {},
   "source": [
    "### Countries with the Lowest Death Rates"
   ]
  },
  {
   "cell_type": "code",
   "execution_count": 31,
   "id": "e92a3a86",
   "metadata": {},
   "outputs": [
    {
     "name": "stdout",
     "output_type": "stream",
     "text": [
      " * sqlite:///Desktop/factbook.db\n",
      "Done.\n"
     ]
    },
    {
     "data": {
      "text/html": [
       "<table>\n",
       "    <thead>\n",
       "        <tr>\n",
       "            <th>name</th>\n",
       "            <th>death_rate</th>\n",
       "        </tr>\n",
       "    </thead>\n",
       "    <tbody>\n",
       "        <tr>\n",
       "            <td>Qatar</td>\n",
       "            <td>1.53</td>\n",
       "        </tr>\n",
       "        <tr>\n",
       "            <td>United Arab Emirates</td>\n",
       "            <td>1.97</td>\n",
       "        </tr>\n",
       "        <tr>\n",
       "            <td>Kuwait</td>\n",
       "            <td>2.18</td>\n",
       "        </tr>\n",
       "        <tr>\n",
       "            <td>Bahrain</td>\n",
       "            <td>2.69</td>\n",
       "        </tr>\n",
       "        <tr>\n",
       "            <td>Gaza Strip</td>\n",
       "            <td>3.04</td>\n",
       "        </tr>\n",
       "        <tr>\n",
       "            <td>Turks and Caicos Islands</td>\n",
       "            <td>3.1</td>\n",
       "        </tr>\n",
       "        <tr>\n",
       "            <td>Saudi Arabia</td>\n",
       "            <td>3.33</td>\n",
       "        </tr>\n",
       "        <tr>\n",
       "            <td>Oman</td>\n",
       "            <td>3.36</td>\n",
       "        </tr>\n",
       "        <tr>\n",
       "            <td>Singapore</td>\n",
       "            <td>3.43</td>\n",
       "        </tr>\n",
       "        <tr>\n",
       "            <td>West Bank</td>\n",
       "            <td>3.5</td>\n",
       "        </tr>\n",
       "    </tbody>\n",
       "</table>"
      ],
      "text/plain": [
       "[('Qatar', 1.53),\n",
       " ('United Arab Emirates', 1.97),\n",
       " ('Kuwait', 2.18),\n",
       " ('Bahrain', 2.69),\n",
       " ('Gaza Strip', 3.04),\n",
       " ('Turks and Caicos Islands', 3.1),\n",
       " ('Saudi Arabia', 3.33),\n",
       " ('Oman', 3.36),\n",
       " ('Singapore', 3.43),\n",
       " ('West Bank', 3.5)]"
      ]
     },
     "execution_count": 31,
     "metadata": {},
     "output_type": "execute_result"
    }
   ],
   "source": [
    "%%sql \n",
    "SELECT name, death_rate\n",
    "  FROM facts\n",
    " WHERE name != 'World'\n",
    "-- Filter out entries without birth rates\n",
    "     AND death_rate IS NOT NULL\n",
    " ORDER BY 2\n",
    " LIMIT 10;"
   ]
  },
  {
   "cell_type": "markdown",
   "id": "e4ae0297",
   "metadata": {},
   "source": [
    "Qatar boasts the world's lowest mortality rate, standing at 1.53 deaths per 1,000 individuals. Following closely are the UAE (1.97), Kuwait (2.8), and Bahrain (2.69). These nations have garnered recognition for their advanced healthcare systems, state-of-the-art medical facilities, and exceptional ability to provide top-tier patient care.\n",
    "\n",
    "Another intriguing observation emerges: Six out of the ten countries listed (Saudi Arabia, Kuwait, the United Arab Emirates, Qatar, Bahrain, and Oman) are members of the Gulf Cooperation Council (GCC). In fact, the entire roster of GCC member states is represented on this list. The GCC forms a political and economic alliance encompassing the six Middle Eastern nations mentioned earlier."
   ]
  },
  {
   "cell_type": "markdown",
   "id": "4de6a9cc",
   "metadata": {},
   "source": [
    "## Countries with the Fastest Declining Population\n",
    "<HR>"
   ]
  },
  {
   "cell_type": "markdown",
   "id": "a99ca9ff",
   "metadata": {},
   "source": [
    "To pinpoint the swiftest declining populations, we target nations that satisfy the following criteria:\n",
    "\n",
    "1. A birth-to-death ratio below one, indicating a lack of natural population increase.\n",
    "2. Minimal or negligible population growth, characterized by growth rates of less than 1%.\n",
    "3. Extremely low levels of immigration, with migration rates below one."
   ]
  },
  {
   "cell_type": "code",
   "execution_count": 32,
   "id": "dcab0c8e",
   "metadata": {},
   "outputs": [
    {
     "name": "stdout",
     "output_type": "stream",
     "text": [
      " * sqlite:///Desktop/factbook.db\n",
      "Done.\n"
     ]
    },
    {
     "data": {
      "text/html": [
       "<table>\n",
       "    <thead>\n",
       "        <tr>\n",
       "            <th>name</th>\n",
       "            <th>birth_death_ratio</th>\n",
       "            <th>population_growth</th>\n",
       "            <th>migration_rate</th>\n",
       "        </tr>\n",
       "    </thead>\n",
       "    <tbody>\n",
       "        <tr>\n",
       "            <td>Serbia</td>\n",
       "            <td>0.66</td>\n",
       "            <td>0.46</td>\n",
       "            <td>0.0</td>\n",
       "        </tr>\n",
       "        <tr>\n",
       "            <td>Japan</td>\n",
       "            <td>0.83</td>\n",
       "            <td>0.16</td>\n",
       "            <td>0.0</td>\n",
       "        </tr>\n",
       "        <tr>\n",
       "            <td>Romania</td>\n",
       "            <td>0.77</td>\n",
       "            <td>0.3</td>\n",
       "            <td>0.24</td>\n",
       "        </tr>\n",
       "        <tr>\n",
       "            <td>Bulgaria</td>\n",
       "            <td>0.62</td>\n",
       "            <td>0.58</td>\n",
       "            <td>0.29</td>\n",
       "        </tr>\n",
       "        <tr>\n",
       "            <td>Slovenia</td>\n",
       "            <td>0.74</td>\n",
       "            <td>0.26</td>\n",
       "            <td>0.37</td>\n",
       "        </tr>\n",
       "        <tr>\n",
       "            <td>Bosnia and Herzegovina</td>\n",
       "            <td>0.91</td>\n",
       "            <td>0.13</td>\n",
       "            <td>0.38</td>\n",
       "        </tr>\n",
       "        <tr>\n",
       "            <td>Poland</td>\n",
       "            <td>0.96</td>\n",
       "            <td>0.09</td>\n",
       "            <td>0.46</td>\n",
       "        </tr>\n",
       "        <tr>\n",
       "            <td>Belarus</td>\n",
       "            <td>0.8</td>\n",
       "            <td>0.2</td>\n",
       "            <td>0.7</td>\n",
       "        </tr>\n",
       "    </tbody>\n",
       "</table>"
      ],
      "text/plain": [
       "[('Serbia', 0.66, 0.46, 0.0),\n",
       " ('Japan', 0.83, 0.16, 0.0),\n",
       " ('Romania', 0.77, 0.3, 0.24),\n",
       " ('Bulgaria', 0.62, 0.58, 0.29),\n",
       " ('Slovenia', 0.74, 0.26, 0.37),\n",
       " ('Bosnia and Herzegovina', 0.91, 0.13, 0.38),\n",
       " ('Poland', 0.96, 0.09, 0.46),\n",
       " ('Belarus', 0.8, 0.2, 0.7)]"
      ]
     },
     "execution_count": 32,
     "metadata": {},
     "output_type": "execute_result"
    }
   ],
   "source": [
    "%%sql\n",
    "SELECT name,\n",
    "       ROUND((birth_rate / death_rate), 2) AS birth_death_ratio, \n",
    "       population_growth,\n",
    "       migration_rate\n",
    "  FROM facts\n",
    " WHERE birth_death_ratio < 1\n",
    "     AND population_growth < 1\n",
    "     AND migration_rate < 1\n",
    " ORDER BY 4, 2, 3;"
   ]
  },
  {
   "cell_type": "markdown",
   "id": "a187fddc",
   "metadata": {},
   "source": [
    "The primary factor behind the sharp population decline in Eastern Europe is attributed to birth rates. Research from the Peterson Institute for International Economics (PIIE) indicates that the region's birth rates have decreased significantly since the dissolution of the Soviet Union.\n",
    "\n",
    "However, the decline in birth rates alone is insufficient to counterbalance the combined effects of mortality and emigration. The Eastern European nations experienced multiple waves of emigration subsequent to the enlargement of the European Union's (EU) borders in 2004 and 2007. According to the PIIE, as of 2016, approximately 6.3 million Eastern European individuals had migrated to other EU member states.\n",
    "\n",
    "Since 1970, there has been a persistent decline in birth rates within Japan. The fertility rate of Japan has been graphed alongside diverse predictions made over the years. Despite these predictions projecting an upward trajectory, the actual rates have consistently decreased with each passing period."
   ]
  },
  {
   "cell_type": "markdown",
   "id": "86e61f0c",
   "metadata": {},
   "source": [
    "## Conclusion\n",
    "<hr>"
   ]
  },
  {
   "cell_type": "markdown",
   "id": "bc9c04f7",
   "metadata": {},
   "source": [
    "Throughout this project, we've utilized the CIA World Factbook data to pinpoint the leading and lagging regions globally. Our analysis hinges on demographic indicators such as population, mortality, and fertility.\n",
    "\n",
    ">- China, India, the United States, Indonesia, and Brazil, contributing to 46% of the global population, are the most populous countries. Notably, sparsely inhabited areas are mainly islands and dependencies.\n",
    ">- In terms of population density, Macau, Monaco, Singapore, and Hong Kong emerge as more densely populated due to their limited land area. In contrast, Bangladesh, South Korea, and Japan exhibit high population density considering their larger land areas.\n",
    ">- Fertility rates peak in Africa while being lowest in Europe and Asia. Some African (Lesotho, Guinea-Bissau) and Eastern European (Bulgaria, Lithuania, Serbia) nations report higher death rates. The Gulf Cooperation Council nations in the Middle East, conversely, have the lowest mortality rates.\n",
    ">- Eastern and South-Eastern Europe are undergoing significant population declines, attributed to reduced birth rates, elevated mortality, and emigration. Even though Japan has optimistic projections, it's experiencing a population decrease."
   ]
  }
 ],
 "metadata": {
  "kernelspec": {
   "display_name": "Python 3 (ipykernel)",
   "language": "python",
   "name": "python3"
  },
  "language_info": {
   "codemirror_mode": {
    "name": "ipython",
    "version": 3
   },
   "file_extension": ".py",
   "mimetype": "text/x-python",
   "name": "python",
   "nbconvert_exporter": "python",
   "pygments_lexer": "ipython3",
   "version": "3.9.13"
  }
 },
 "nbformat": 4,
 "nbformat_minor": 5
}
